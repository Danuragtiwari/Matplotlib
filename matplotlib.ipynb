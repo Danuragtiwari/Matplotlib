{
  "nbformat": 4,
  "nbformat_minor": 0,
  "metadata": {
    "colab": {
      "provenance": [],
      "collapsed_sections": [],
      "authorship_tag": "ABX9TyOmR7IVUi0FAZm9pCtIrOl1",
      "include_colab_link": true
    },
    "kernelspec": {
      "name": "python3",
      "display_name": "Python 3"
    },
    "language_info": {
      "name": "python"
    }
  },
  "cells": [
    {
      "cell_type": "markdown",
      "metadata": {
        "id": "view-in-github",
        "colab_type": "text"
      },
      "source": [
        "<a href=\"https://colab.research.google.com/github/Danuragtiwari/Matplotlib/blob/main/matplotlib.ipynb\" target=\"_parent\"><img src=\"https://colab.research.google.com/assets/colab-badge.svg\" alt=\"Open In Colab\"/></a>"
      ]
    },
    {
      "cell_type": "code",
      "execution_count": null,
      "metadata": {
        "id": "3h2aMMB_kn5y"
      },
      "outputs": [],
      "source": [
        "import matplotlib.pyplot as plt\n",
        "import pandas as pd\n",
        "import numpy as np"
      ]
    },
    {
      "cell_type": "markdown",
      "source": [
        "**BASIC Graph**"
      ],
      "metadata": {
        "id": "cMDO5LK0lCL9"
      }
    },
    {
      "cell_type": "code",
      "source": [
        "x=[1,2,3,4,5,6,7,8,9,10]\n",
        "y=[2,4,6,10,19,200,45,-1,-99,1000]\n",
        "plt.figure(figsize=(4,3),dpi=100)\n",
        "# plt.title(\"Our First Graph\")\n",
        "# plt.xlabel('X Axis')\n",
        "# plt.ylabel('Y Axis')\n",
        "# plt.plot(x,y)\n",
        "# plt.show()\n",
        "plt.title(\"Our First Graph\",fontdict={'fontname':'Baloo Bhai ','fontsize':20})\n",
        "plt.xlabel('X Axis')\n",
        "plt.ylabel('Y Axis')\n",
        "# x,y ticks mark to scale the graph\n",
        "plt.xticks([0,1,2,3,4])\n",
        "plt.yticks([20000])\n",
        "# use fmt='[color][marker][line]'\n",
        "plt.plot(x,y,'r.--',label=\"can't say it\")\n",
        "# select interval we want to plots\n",
        "x2=np.arange(0,3,10)\n",
        "\n",
        "# select the part of graph as line\n",
        "\n",
        "plt.plot(x2[:2],x2[:2]**2,'b^-',label=\"Cubic may be!\")\n",
        "plt.plot(x2,x2,'g<--',label='Figuring out')\n",
        "# plt.plot(x,y,label=\"Can't say\",color='#123134',linewidth=2,marker='.',linestyle='-')\n",
        "\n",
        "# Add a legends\n",
        "plt.legend()\n",
        "# saving the figure in particular name,in same directory,dpi=300 is good and having high resolution\n",
        "plt.savefig('first graph.jpg',dpi=300)\n",
        "# show plot\n",
        "plt.show()"
      ],
      "metadata": {
        "colab": {
          "base_uri": "https://localhost:8080/",
          "height": 337
        },
        "id": "DYsVSZkslBYh",
        "outputId": "098c0a30-ce8b-4714-8403-ea1a589596eb"
      },
      "execution_count": 64,
      "outputs": [
        {
          "output_type": "display_data",
          "data": {
            "text/plain": [
              "<Figure size 400x300 with 1 Axes>"
            ],
            "image/png": "[encoded data removed]"
          },
          "metadata": {
            "needs_background": "light"
          }
        }
      ]
    },
    {
      "cell_type": "markdown",
      "source": [
        "**Bar Chart**\n"
      ],
      "metadata": {
        "id": "Jvqo-J2OzT3O"
      }
    },
    {
      "cell_type": "code",
      "source": [
        "labels=['anurag','lambu','prince']\n",
        "values=[89,90,99]\n",
        "# plt.bar(values,labels)\n",
        "bars=plt.bar(labels,values)\n",
        "plt.figure(figsize=(4,5))\n",
        "patterns=['|','-','.']\n",
        "for bar in bars:\n",
        "  bar.set_hatch(patterns.pop(0))\n",
        "# a[0].set_hatch('|') use bars instead of a\n",
        "# a[1].set_hatch('-')\n",
        "# a[2].set_hatch('.')\n",
        "plt.show()"
      ],
      "metadata": {
        "colab": {
          "base_uri": "https://localhost:8080/",
          "height": 283
        },
        "id": "LVNrVDQuzcMB",
        "outputId": "c588b4bc-b294-4eb4-d959-3e01fde5ca25"
      },
      "execution_count": 81,
      "outputs": [
        {
          "output_type": "display_data",
          "data": {
            "text/plain": [
              "<Figure size 432x288 with 1 Axes>"
            ],
            "image/png": "[encoded data removed]"
          },
          "metadata": {
            "needs_background": "light"
          }
        },
        {
          "output_type": "display_data",
          "data": {
            "text/plain": [
              "<Figure size 288x360 with 0 Axes>"
            ]
          },
          "metadata": {}
        }
      ]
    }
  ]
}